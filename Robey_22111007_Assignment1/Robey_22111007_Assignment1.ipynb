{
 "cells": [
  {
   "cell_type": "markdown",
   "id": "e98e1d2b",
   "metadata": {},
   "source": [
    "# ASSIGNMENT NO 1"
   ]
  },
  {
   "cell_type": "markdown",
   "id": "b0b60605",
   "metadata": {},
   "source": [
    "## NAME: ALLAN ROBEY"
   ]
  },
  {
   "cell_type": "markdown",
   "id": "56dc6289",
   "metadata": {},
   "source": [
    "## 22111007"
   ]
  },
  {
   "cell_type": "code",
   "execution_count": 2,
   "id": "e2481aef",
   "metadata": {},
   "outputs": [],
   "source": [
    "from vtk import *"
   ]
  },
  {
   "cell_type": "code",
   "execution_count": 3,
   "id": "1637d1b5",
   "metadata": {},
   "outputs": [],
   "source": [
    "#load the dataset\n",
    "reader = vtkXMLImageDataReader()\n",
    "reader.SetFileName('Isabel_2D.vti')\n",
    "reader.Update()\n",
    "data = reader.GetOutput()"
   ]
  },
  {
   "cell_type": "code",
   "execution_count": 4,
   "id": "ec7e915d",
   "metadata": {},
   "outputs": [
    {
     "name": "stdout",
     "output_type": "stream",
     "text": [
      "vtkImageData (00000219BF9EFE20)\n",
      "  Debug: Off\n",
      "  Modified Time: 292\n",
      "  Reference Count: 2\n",
      "  Registered Events: (none)\n",
      "  Information: 00000219BFCC0990\n",
      "  Data Released: False\n",
      "  Global Release Data: Off\n",
      "  UpdateTime: 293\n",
      "  Field Data:\n",
      "    Debug: Off\n",
      "    Modified Time: 244\n",
      "    Reference Count: 1\n",
      "    Registered Events: (none)\n",
      "    Number Of Arrays: 0\n",
      "    Number Of Components: 0\n",
      "    Number Of Tuples: 0\n",
      "  Number Of Points: 62500\n",
      "  Number Of Cells: 62001\n",
      "  Cell Data:\n",
      "    Debug: Off\n",
      "    Modified Time: 252\n",
      "    Reference Count: 1\n",
      "    Registered Events: \n",
      "      Registered Observers:\n",
      "        vtkObserver (00000219BFCE5E70)\n",
      "          Event: 33\n",
      "          EventName: ModifiedEvent\n",
      "          Command: 00000219BFCDC3F0\n",
      "          Priority: 0\n",
      "          Tag: 1\n",
      "    Number Of Arrays: 0\n",
      "    Number Of Components: 0\n",
      "    Number Of Tuples: 0\n",
      "    Copy Tuple Flags: ( 1 1 1 1 1 0 1 1 1 1 1 )\n",
      "    Interpolate Flags: ( 1 1 1 1 1 0 0 1 1 1 1 )\n",
      "    Pass Through Flags: ( 1 1 1 1 1 1 1 1 1 1 1 )\n",
      "    Scalars: (none)\n",
      "    Vectors: (none)\n",
      "    Normals: (none)\n",
      "    TCoords: (none)\n",
      "    Tensors: (none)\n",
      "    GlobalIds: (none)\n",
      "    PedigreeIds: (none)\n",
      "    EdgeFlag: (none)\n",
      "    Tangents: (none)\n",
      "    RationalWeights: (none)\n",
      "    HigherOrderDegrees: (none)\n",
      "  Point Data:\n",
      "    Debug: Off\n",
      "    Modified Time: 265\n",
      "    Reference Count: 1\n",
      "    Registered Events: \n",
      "      Registered Observers:\n",
      "        vtkObserver (00000219BFCE63B0)\n",
      "          Event: 33\n",
      "          EventName: ModifiedEvent\n",
      "          Command: 00000219BFCDC3F0\n",
      "          Priority: 0\n",
      "          Tag: 1\n",
      "    Number Of Arrays: 1\n",
      "    Array 0 name = Pressure\n",
      "    Number Of Components: 1\n",
      "    Number Of Tuples: 62500\n",
      "    Copy Tuple Flags: ( 1 1 1 1 1 0 1 1 1 1 1 )\n",
      "    Interpolate Flags: ( 1 1 1 1 1 0 0 1 1 1 1 )\n",
      "    Pass Through Flags: ( 1 1 1 1 1 1 1 1 1 1 1 )\n",
      "    Scalars: \n",
      "      Debug: Off\n",
      "      Modified Time: 265\n",
      "      Reference Count: 1\n",
      "      Registered Events: (none)\n",
      "      Name: Pressure\n",
      "      Data type: double\n",
      "      Size: 62500\n",
      "      MaxId: 62499\n",
      "      NumberOfComponents: 1\n",
      "      Information: 0000000000000000\n",
      "      Name: Pressure\n",
      "      Number Of Components: 1\n",
      "      Number Of Tuples: 62500\n",
      "      Size: 62500\n",
      "      MaxId: 62499\n",
      "      LookupTable: (none)\n",
      "    Vectors: (none)\n",
      "    Normals: (none)\n",
      "    TCoords: (none)\n",
      "    Tensors: (none)\n",
      "    GlobalIds: (none)\n",
      "    PedigreeIds: (none)\n",
      "    EdgeFlag: (none)\n",
      "    Tangents: (none)\n",
      "    RationalWeights: (none)\n",
      "    HigherOrderDegrees: (none)\n",
      "  Bounds: \n",
      "    Xmin,Xmax: (0, 249)\n",
      "    Ymin,Ymax: (0, 249)\n",
      "    Zmin,Zmax: (25, 25)\n",
      "  Compute Time: 306\n",
      "  Spacing: (1, 1, 1)\n",
      "  Origin: (0, 0, 0)\n",
      "  Direction: (1, 0, 0, 0, 1, 0, 0, 0, 1)\n",
      "  Dimensions: (250, 250, 1)\n",
      "  Increments: (0, 0, 0)\n",
      "  Extent: (0, 249, 0, 249, 25, 25)\n",
      "\n",
      "\n"
     ]
    }
   ],
   "source": [
    "print(data)"
   ]
  },
  {
   "cell_type": "markdown",
   "id": "59e0ca4a",
   "metadata": {},
   "source": [
    "# QUESTION 1- Data Query/Processing Task"
   ]
  },
  {
   "cell_type": "markdown",
   "id": "3e0e94e5",
   "metadata": {},
   "source": [
    "# 1.1 Number of Cells in the Dataset\n"
   ]
  },
  {
   "cell_type": "code",
   "execution_count": 23,
   "id": "b0bc4f11",
   "metadata": {},
   "outputs": [
    {
     "name": "stdout",
     "output_type": "stream",
     "text": [
      "Number of Cells in the Dataset:  62001\n"
     ]
    }
   ],
   "source": [
    "num_cells = data.GetNumberOfCells()\n",
    "print(\"Number of Cells in the Dataset: \",num_cells)"
   ]
  },
  {
   "cell_type": "markdown",
   "id": "892f5ca6",
   "metadata": {},
   "source": [
    "# 1.2 The dimensions of the dataset"
   ]
  },
  {
   "cell_type": "code",
   "execution_count": 24,
   "id": "643bf914",
   "metadata": {},
   "outputs": [
    {
     "name": "stdout",
     "output_type": "stream",
     "text": [
      "Dimensions of the Dataset:  (250, 250, 1)\n"
     ]
    }
   ],
   "source": [
    "num_dimensions = data.GetDimensions()\n",
    "print(\"Dimensions of the Dataset: \",num_dimensions)"
   ]
  },
  {
   "cell_type": "markdown",
   "id": "368c1f67",
   "metadata": {},
   "source": [
    "# 1.3 The number of points present in the uniform grid of the data"
   ]
  },
  {
   "cell_type": "code",
   "execution_count": 25,
   "id": "c77fc8c2",
   "metadata": {},
   "outputs": [
    {
     "name": "stdout",
     "output_type": "stream",
     "text": [
      "Number of Points present in the uniform grid of the data:  62500\n"
     ]
    }
   ],
   "source": [
    "num_points = num_dimensions[0] * num_dimensions[1] * num_dimensions[2]\n",
    "print(\"Number of Points present in the uniform grid of the data: \",num_points)"
   ]
  },
  {
   "cell_type": "markdown",
   "id": "d8691c21",
   "metadata": {},
   "source": [
    "# 1.4 Print the range of Pressure values present in the dataset"
   ]
  },
  {
   "cell_type": "code",
   "execution_count": 26,
   "id": "0e267162",
   "metadata": {},
   "outputs": [
    {
     "name": "stdout",
     "output_type": "stream",
     "text": [
      "The range of Pressure values present in the dataset:  (-1434.8590087890625, 630.5694580078125)\n"
     ]
    }
   ],
   "source": [
    "\n",
    "surface = vtkGeometryFilter()\n",
    "surface.SetInputData(data)\n",
    "surface.Update()\n",
    "pressure_data = surface.GetOutput()\n",
    "range_pressure = pressure_data.GetPointData().GetArray('Pressure').GetRange()\n",
    "print(\"The range of Pressure values present in the dataset: \",range_pressure)\n"
   ]
  },
  {
   "cell_type": "markdown",
   "id": "78de3e29",
   "metadata": {},
   "source": [
    "# 1.5 Print the average Pressure value of the entire dataset, i.e., the Pressure array"
   ]
  },
  {
   "cell_type": "code",
   "execution_count": 27,
   "id": "93825057",
   "metadata": {},
   "outputs": [
    {
     "name": "stdout",
     "output_type": "stream",
     "text": [
      "The average Pressure value of the entire dataset:  240.77722069091325\n"
     ]
    }
   ],
   "source": [
    "data_array = pressure_data.GetPointData().GetArray('Pressure')\n",
    "sum_pressure = 0\n",
    "for i in range(data_array.GetNumberOfTuples()):\n",
    "    sum_pressure += data_array.GetTuple1(i)\n",
    "avg_pressure = sum_pressure/data_array.GetNumberOfTuples()\n",
    "\n",
    "print(\"The average Pressure value of the entire dataset: \",avg_pressure)"
   ]
  },
  {
   "cell_type": "markdown",
   "id": "3ea698c7",
   "metadata": {},
   "source": [
    "# 1.6 Extract a vtkCell object with cell id=0, i.e., the first cell"
   ]
  },
  {
   "cell_type": "code",
   "execution_count": 28,
   "id": "81f2fed9",
   "metadata": {},
   "outputs": [],
   "source": [
    "id = 0\n",
    "cell = data.GetCell(id) "
   ]
  },
  {
   "cell_type": "markdown",
   "id": "9db3ab7f",
   "metadata": {},
   "source": [
    "# 1.7 Print the indices of the four corner vertices of the cell"
   ]
  },
  {
   "cell_type": "code",
   "execution_count": 29,
   "id": "98641593",
   "metadata": {},
   "outputs": [
    {
     "name": "stdout",
     "output_type": "stream",
     "text": [
      "The indices of the four corner vertices of the cell:\n",
      "0 1 251 250\n"
     ]
    }
   ],
   "source": [
    "## Query the 4 corner points of the cell\n",
    "pid1 = cell.GetPointId(0)\n",
    "pid2 = cell.GetPointId(1)\n",
    "pid3 = cell.GetPointId(3)\n",
    "pid4 = cell.GetPointId(2)\n",
    "\n",
    "## Print the 1D indices of the corner points\n",
    "print('The indices of the four corner vertices of the cell:')\n",
    "print(pid1,pid2,pid3,pid4)"
   ]
  },
  {
   "cell_type": "markdown",
   "id": "83d94902",
   "metadata": {},
   "source": [
    "# 1.8 Print the 3D coordinate of each vertex"
   ]
  },
  {
   "cell_type": "code",
   "execution_count": 30,
   "id": "e35429bc",
   "metadata": {},
   "outputs": [
    {
     "name": "stdout",
     "output_type": "stream",
     "text": [
      "3D coordinates of each vertex in counter clockwise order:\n",
      "(0.0, 0.0, 25.0)\n",
      "(1.0, 0.0, 25.0)\n",
      "(1.0, 1.0, 25.0)\n",
      "(0.0, 1.0, 25.0)\n"
     ]
    }
   ],
   "source": [
    "\n",
    "## Print the locations (3D coordinates) of the points\n",
    "print('3D coordinates of each vertex in counter clockwise order:')\n",
    "print(data.GetPoint(pid1))\n",
    "print(data.GetPoint(pid2))\n",
    "print(data.GetPoint(pid3))\n",
    "print(data.GetPoint(pid4))"
   ]
  },
  {
   "cell_type": "markdown",
   "id": "c3d21811",
   "metadata": {},
   "source": [
    "# 1.9 Compute the 3D coordinate of the cell center using its four corner vertices"
   ]
  },
  {
   "cell_type": "code",
   "execution_count": 31,
   "id": "97a9aa1f",
   "metadata": {},
   "outputs": [
    {
     "name": "stdout",
     "output_type": "stream",
     "text": [
      "The 3D coordinate of the cell center:  (0.5, 0.5, 25.0)\n"
     ]
    }
   ],
   "source": [
    "center_coordinate1 = (data.GetPoint(pid1)[0] + data.GetPoint(pid2)[0] + data.GetPoint(pid3)[0] + data.GetPoint(pid4)[0])/4\n",
    "center_coordinate2 = (data.GetPoint(pid1)[1] + data.GetPoint(pid2)[1] + data.GetPoint(pid3)[1] + data.GetPoint(pid4)[1])/4\n",
    "center_coordinate3 = (data.GetPoint(pid1)[2] + data.GetPoint(pid2)[2] + data.GetPoint(pid3)[2] + data.GetPoint(pid4)[2])/4\n",
    "center_coordinate = (center_coordinate1,center_coordinate2,center_coordinate3)\n",
    "print(\"The 3D coordinate of the cell center: \",center_coordinate)"
   ]
  },
  {
   "cell_type": "markdown",
   "id": "5732bf24",
   "metadata": {},
   "source": [
    "# 1.10 Print the data/attribute value (Pressure) for all the four vertices of the extracted cell"
   ]
  },
  {
   "cell_type": "code",
   "execution_count": 32,
   "id": "b437e9c1",
   "metadata": {},
   "outputs": [
    {
     "name": "stdout",
     "output_type": "stream",
     "text": [
      "The data/attribute value (Pressure) for all the four vertices of the extracted cell:  477.527587890625 474.79827880859375 467.60699462890625 478.0115661621094\n"
     ]
    }
   ],
   "source": [
    "data_Arr1 = data.GetPointData().GetArray('Pressure')\n",
    "p_val1 = data_Arr1.GetTuple1(pid1)\n",
    "p_val2 = data_Arr1.GetTuple1(pid2)\n",
    "p_val3 = data_Arr1.GetTuple1(pid3)\n",
    "p_val4 = data_Arr1.GetTuple1(pid4)\n",
    "print(\"The data/attribute value (Pressure) for all the four vertices of the extracted cell: \",p_val1,p_val2,p_val3,p_val4)"
   ]
  },
  {
   "cell_type": "markdown",
   "id": "451dfd1a",
   "metadata": {},
   "source": [
    "# 1.11 Compute and print the mean (average) Pressure value at the cell center by averaging Pressure values from the four cell vertices"
   ]
  },
  {
   "cell_type": "code",
   "execution_count": 33,
   "id": "3089ac7f",
   "metadata": {},
   "outputs": [
    {
     "name": "stdout",
     "output_type": "stream",
     "text": [
      "The mean (average) Pressure value at the cell center:  474.4861068725586\n"
     ]
    }
   ],
   "source": [
    "avg_pval = ( p_val1+p_val2+p_val3+p_val4)/4\n",
    "print(\"The mean (average) Pressure value at the cell center: \",avg_pval)"
   ]
  },
  {
   "cell_type": "markdown",
   "id": "00ec62ed",
   "metadata": {},
   "source": [
    "# QUESTION 2 - Visualization Task"
   ]
  },
  {
   "cell_type": "markdown",
   "id": "1f97e970",
   "metadata": {},
   "source": [
    "This task was solved assuming that I can access the information from the above task and I already know the coordinates of the\n",
    "four corner vertices of the cell that I have extracted with cell id=0. The coordinates are 3D pointswith a constant Z coordinate value=25. Now a new VtkPolyData object has been created and these 4 points are added intothe VtkPolyData and a separate color has been specified for each point. The four points has been reprsented with colors such as orange, fluorescent green, fluorescent blue and neon red. Next, vtkVertexGlyphFilter() has been used to create visual representations for each point in the form of a Vertex Glyph. Finally, use VTK mapper, actor, and renderer are used to show the output of the vtkVertexGlyphFilter() as points on the screen. "
   ]
  },
  {
   "cell_type": "code",
   "execution_count": 34,
   "id": "9e383e6b",
   "metadata": {},
   "outputs": [
    {
     "data": {
      "text/plain": [
       "3"
      ]
     },
     "execution_count": 34,
     "metadata": {},
     "output_type": "execute_result"
    }
   ],
   "source": [
    "#extract and store one cell\n",
    "points = vtkPoints()\n",
    "points.InsertNextPoint(data.GetPoint(pid1))\n",
    "points.InsertNextPoint(data.GetPoint(pid2))\n",
    "points.InsertNextPoint(data.GetPoint(pid3))\n",
    "points.InsertNextPoint(data.GetPoint(pid4))\n",
    "\n"
   ]
  },
  {
   "cell_type": "code",
   "execution_count": 35,
   "id": "85d015c5",
   "metadata": {},
   "outputs": [],
   "source": [
    "#create a polydata\n",
    "polydata = vtkPolyData()\n",
    "polydata.SetPoints(points)\n",
    "\n"
   ]
  },
  {
   "cell_type": "code",
   "execution_count": 36,
   "id": "08e6230a",
   "metadata": {},
   "outputs": [
    {
     "data": {
      "text/plain": [
       "0"
      ]
     },
     "execution_count": 36,
     "metadata": {},
     "output_type": "execute_result"
    }
   ],
   "source": [
    "# Creating an array of colors\n",
    "array_of_colors = vtkUnsignedCharArray()\n",
    "array_of_colors.SetNumberOfComponents(3)\n",
    "array_of_colors.SetName(\"Colors\")\n",
    "array_of_colors.InsertNextTuple3(255, 165, 0) # orange\n",
    "array_of_colors.InsertNextTuple3(57, 255, 20) # fluorescent green\n",
    "array_of_colors.InsertNextTuple3(21, 244, 238) #fluorescent blue\n",
    "array_of_colors.InsertNextTuple3(255, 49, 49) # neon red\n",
    "polydata.GetPointData().SetScalars(array_of_colors)\n",
    "\n"
   ]
  },
  {
   "cell_type": "code",
   "execution_count": 37,
   "id": "11318e12",
   "metadata": {},
   "outputs": [],
   "source": [
    "# Creating the vertex glyph filter\n",
    "glyphFilter = vtkVertexGlyphFilter()\n",
    "glyphFilter.SetInputData(polydata)\n",
    "glyphFilter.Update()\n",
    "\n"
   ]
  },
  {
   "cell_type": "code",
   "execution_count": 38,
   "id": "4f1fe7d6",
   "metadata": {},
   "outputs": [],
   "source": [
    "# Creating the mapper, actor, and renderer\n",
    "mapper = vtkPolyDataMapper()\n",
    "mapper.SetInputConnection(glyphFilter.GetOutputPort())\n",
    "\n",
    "actor = vtkActor()\n",
    "actor.SetMapper(mapper)\n",
    "actor.GetProperty().SetPointSize(20)\n",
    "\n",
    "renderer = vtkRenderer()\n",
    "renderer.AddActor(actor)\n",
    "\n"
   ]
  },
  {
   "cell_type": "code",
   "execution_count": 39,
   "id": "ae3e0a47",
   "metadata": {},
   "outputs": [],
   "source": [
    "#Setup render window, renderer, and interactor\n",
    "# Display the renderer\n",
    "renderer.SetBackground(1,1,1)\n",
    "renderWindow = vtkRenderWindow()\n",
    "renderWindow.SetSize(800,800)\n",
    "renderWindow.AddRenderer(renderer)\n",
    "\n",
    "renderWindowInteractor = vtkRenderWindowInteractor()\n",
    "renderWindowInteractor.SetRenderWindow(renderWindow)\n",
    "renderWindowInteractor.Initialize()\n",
    "renderWindowInteractor.Start()"
   ]
  },
  {
   "cell_type": "code",
   "execution_count": null,
   "id": "9ca2131e",
   "metadata": {},
   "outputs": [],
   "source": []
  }
 ],
 "metadata": {
  "kernelspec": {
   "display_name": "Python 3 (ipykernel)",
   "language": "python",
   "name": "python3"
  },
  "language_info": {
   "codemirror_mode": {
    "name": "ipython",
    "version": 3
   },
   "file_extension": ".py",
   "mimetype": "text/x-python",
   "name": "python",
   "nbconvert_exporter": "python",
   "pygments_lexer": "ipython3",
   "version": "3.9.12"
  }
 },
 "nbformat": 4,
 "nbformat_minor": 5
}
