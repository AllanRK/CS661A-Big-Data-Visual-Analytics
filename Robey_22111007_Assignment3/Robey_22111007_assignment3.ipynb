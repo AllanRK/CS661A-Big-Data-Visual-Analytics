{
 "cells": [
  {
   "cell_type": "markdown",
   "id": "a39eee50",
   "metadata": {},
   "source": [
    "# Assignment 3\n",
    "## Allan Robey\n",
    "## 22111007"
   ]
  },
  {
   "cell_type": "code",
   "execution_count": 1,
   "id": "9349cc3b",
   "metadata": {},
   "outputs": [],
   "source": [
    "# import the required modules ....\n",
    "import pandas as pd\n",
    "import numpy as np\n",
    "import plotly.graph_objs as go\n",
    "import plotly.express as px\n",
    "import ipywidgets as widgets\n",
    "from vtk import *"
   ]
  },
  {
   "cell_type": "code",
   "execution_count": 2,
   "id": "36032e2b",
   "metadata": {},
   "outputs": [
    {
     "name": "stdout",
     "output_type": "stream",
     "text": [
      "(75, 75, 75)\n"
     ]
    }
   ],
   "source": [
    "# Load the dataset.....\n",
    "reader = vtkXMLImageDataReader()\n",
    "reader.SetFileName('mixture.vti')\n",
    "reader.Update()\n",
    "data = reader.GetOutput()\n",
    "num_dimensions = data.GetDimensions()\n",
    "print(num_dimensions)\n",
    "num_points = num_dimensions[0] * num_dimensions[1] * num_dimensions[2]\n",
    "array_of_data = data.GetPointData().GetArray('ImageFile')\n",
    "values = [array_of_data.GetTuple1(pid) for pid in range(num_points)]\n",
    "coordinates = [data.GetPoint(pid) for pid in range(num_points)]\n",
    "img_range = data.GetScalarRange()\n",
    "# getting the x , y and z co-ordinates...\n",
    "x = [i[0] for i in coordinates]\n",
    "y = [i[1] for i in coordinates]\n",
    "z = [i[2] for i in coordinates]"
   ]
  },
  {
   "cell_type": "code",
   "execution_count": 8,
   "id": "098b1ccf",
   "metadata": {},
   "outputs": [],
   "source": [
    "# Initial ISosurface\n",
    "fig1 = go.FigureWidget(data=go.Isosurface(\n",
    "    x=x,\n",
    "    y=y,\n",
    "    z=z,\n",
    "    value=values,\n",
    "    isomin=0.0,\n",
    "    isomax=0.0,\n",
    "    cauto = False,\n",
    "    cmin = min(values),\n",
    "    cmax = max(values),\n",
    "    caps=dict(x_show=False, y_show=False),\n",
    "    colorscale='plasma',\n",
    "    opacity = 1,\n",
    "    colorbar = dict(thickness=20, ticklen=4),\n",
    "    showscale = False\n",
    "    \n",
    "))"
   ]
  },
  {
   "cell_type": "code",
   "execution_count": 9,
   "id": "28e9d123",
   "metadata": {},
   "outputs": [],
   "source": [
    "# Initial Histogram\n",
    "# Create a histogram trace\n",
    "histogram_trace = go.Histogram(x=values, nbinsx=30)\n",
    "\n",
    "# Create a layout object\n",
    "layout = go.Layout(\n",
    "    #title='Histogram',\n",
    "    xaxis=dict(title='Vortex Scalar Values'),\n",
    "    yaxis=dict(title='Frequency'),\n",
    ")\n",
    "\n",
    "# Create a figure object\n",
    "fig2 = go.FigureWidget(data=[histogram_trace], layout=layout)"
   ]
  },
  {
   "cell_type": "code",
   "execution_count": 10,
   "id": "decb797c",
   "metadata": {},
   "outputs": [
    {
     "data": {
      "application/vnd.jupyter.widget-view+json": {
       "model_id": "3600859c52824e6ca4780aa42dcaf6fd",
       "version_major": 2,
       "version_minor": 0
      },
      "text/plain": [
       "VBox(children=(HBox(children=(FloatSlider(value=0.0, continuous_update=False, description='Isovalue', max=0.43…"
      ]
     },
     "metadata": {},
     "output_type": "display_data"
    }
   ],
   "source": [
    "# Create the widgets with slider and button\n",
    "slider = widgets.FloatSlider(value=0.0, min=img_range[0], max=img_range[1], description='Isovalue',continuous_update=False,step=0.01)\n",
    "button = widgets.Button(description='Reset')\n",
    "\n",
    "\n",
    "# method to update the graph\n",
    "def update_graph(change):\n",
    "    isovalue = change.new\n",
    "    fig1.data[0].isomin = isovalue\n",
    "    fig1.data[0].isomax = isovalue\n",
    "    # Update histogram data based on slider value\n",
    "    filtered_values = [val for val in values if val >= isovalue - 0.25 and val <= isovalue + 0.25]\n",
    "    fig2.data[0].x = filtered_values\n",
    "    \n",
    "\n",
    "# method to reset the graph    \n",
    "def reset_graph(button):\n",
    "    # Reset isovalue to initial value\n",
    "    slider.value = 0.0\n",
    "    isovalue = 0.0\n",
    "    # Reset the isosurface value\n",
    "    fig1.data[0].update(isomin=isovalue, isomax=isovalue)\n",
    "    # Reset histogram data\n",
    "    fig2.data[0].x = values\n",
    "    \n",
    "# Link the slider to the update function\n",
    "slider.observe(update_graph, names='value')\n",
    "\n",
    "# Link the button to the reset function\n",
    "button.on_click(reset_graph)\n",
    "\n",
    "# Create the layout for the widget\n",
    "graph_widget = widgets.VBox([\n",
    "    widgets.HBox([slider, button]), \n",
    "    widgets.HBox([fig1, fig2])\n",
    "])\n",
    "\n",
    "# Display the widget\n",
    "display(graph_widget)"
   ]
  },
  {
   "cell_type": "markdown",
   "id": "58486ec2",
   "metadata": {},
   "source": [
    "##### "
   ]
  }
 ],
 "metadata": {
  "kernelspec": {
   "display_name": "Python 3 (ipykernel)",
   "language": "python",
   "name": "python3"
  },
  "language_info": {
   "codemirror_mode": {
    "name": "ipython",
    "version": 3
   },
   "file_extension": ".py",
   "mimetype": "text/x-python",
   "name": "python",
   "nbconvert_exporter": "python",
   "pygments_lexer": "ipython3",
   "version": "3.9.12"
  }
 },
 "nbformat": 4,
 "nbformat_minor": 5
}
